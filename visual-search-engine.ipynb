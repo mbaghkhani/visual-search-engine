{
 "cells": [
  {
   "cell_type": "code",
   "execution_count": 15,
   "id": "de651925-0db1-4d85-b9dd-ad5d9c64595a",
   "metadata": {},
   "outputs": [],
   "source": [
    "from datasets import load_dataset\n",
    "from PIL import Image\n",
    "import os\n",
    "import torch\n",
    "from PIL import Image\n",
    "from transformers import CLIPProcessor, CLIPModel\n",
    "import numpy as np\n",
    "import faiss"
   ]
  },
  {
   "cell_type": "code",
   "execution_count": 2,
   "id": "11a0d862-e27d-4313-9b9d-7435945a0d4a",
   "metadata": {},
   "outputs": [],
   "source": [
    "os.makedirs(\"tiny_imagenet/train\", exist_ok=True)\n",
    "os.makedirs(\"tiny_imagenet/val\", exist_ok=True)"
   ]
  },
  {
   "cell_type": "code",
   "execution_count": 3,
   "id": "a4990536-a30b-4a96-9713-66d51aaa4dbf",
   "metadata": {},
   "outputs": [],
   "source": [
    "train_ds = load_dataset('Maysee/tiny-imagenet', split='train')\n",
    "val_ds = load_dataset('Maysee/tiny-imagenet', split='valid')  \n",
    "\n",
    "for i, item in enumerate(train_ds):\n",
    "    img = item['image']\n",
    "    label = item['label']\n",
    "    label_folder = f\"tiny_imagenet/train/{label}\"\n",
    "    os.makedirs(label_folder, exist_ok=True)\n",
    "    img.save(f\"{label_folder}/{i}.jpg\")\n",
    "\n",
    "for i, item in enumerate(val_ds):\n",
    "    img = item['image']\n",
    "    label = item['label']\n",
    "    label_folder = f\"tiny_imagenet/val/{label}\"\n",
    "    os.makedirs(label_folder, exist_ok=True)\n",
    "    img.save(f\"{label_folder}/{i}.jpg\")"
   ]
  },
  {
   "cell_type": "code",
   "execution_count": 5,
   "id": "724305f9-d049-41fe-b4b1-edf254fde36c",
   "metadata": {},
   "outputs": [],
   "source": [
    "device = torch.device(\"cuda\" if torch.cuda.is_available() else \"cpu\")"
   ]
  },
  {
   "cell_type": "code",
   "execution_count": 6,
   "id": "2231063c-8b90-4e07-8072-094a861c1ad4",
   "metadata": {},
   "outputs": [
    {
     "name": "stderr",
     "output_type": "stream",
     "text": [
      "Using a slow image processor as `use_fast` is unset and a slow processor was saved with this model. `use_fast=True` will be the default behavior in v4.52, even if the model was saved with a slow processor. This will result in minor differences in outputs. You'll still be able to use a slow processor with `use_fast=False`.\n"
     ]
    }
   ],
   "source": [
    "processor = CLIPProcessor.from_pretrained(\"openai/clip-vit-base-patch32\")\n",
    "model = CLIPModel.from_pretrained(\"openai/clip-vit-base-patch32\").to(device)\n",
    "model.eval()\n",
    "\n",
    "def extract_feature(image_path):\n",
    "    image = Image.open(image_path).convert(\"RGB\")\n",
    "    inputs = processor(images=image, return_tensors=\"pt\").to(device)\n",
    "    with torch.no_grad():\n",
    "        outputs = model.get_image_features(**inputs)\n",
    "    return outputs[0].cpu().numpy()"
   ]
  },
  {
   "cell_type": "code",
   "execution_count": 11,
   "id": "2dda163e-c6ce-424e-9663-5609c2582667",
   "metadata": {},
   "outputs": [],
   "source": [
    "folders = [\"tiny_imagenet/train\", \"tiny_imagenet/val\"]\n",
    "\n",
    "all_features = []\n",
    "all_paths = []\n",
    "\n",
    "for folder in folders:\n",
    "    for label in os.listdir(folder):\n",
    "        label_path = os.path.join(folder, label)\n",
    "        if not os.path.isdir(label_path):\n",
    "            continue\n",
    "\n",
    "        for filename in os.listdir(label_path):\n",
    "            img_path = os.path.join(label_path, filename)\n",
    "            if filename.endswith(\".jpg\"):\n",
    "                feature = extract_feature(img_path)\n",
    "                all_features.append(feature)\n",
    "                all_paths.append(img_path)\n",
    "\n",
    "features_array = np.vstack(all_features)\n",
    "np.savez_compressed(\"image_features_clip.npz\", features=features_array, paths=all_paths)\n"
   ]
  },
  {
   "cell_type": "code",
   "execution_count": 13,
   "id": "45da23e5-c1e1-4fe1-b742-0b2d39776b1a",
   "metadata": {},
   "outputs": [],
   "source": [
    "data = np.load(\"image_features_clip.npz\", allow_pickle=True)"
   ]
  },
  {
   "cell_type": "code",
   "execution_count": 14,
   "id": "7451a109-9516-46a9-b7e0-2f4675af37d0",
   "metadata": {},
   "outputs": [],
   "source": [
    "features = data[\"features\"].astype(\"float32\")  \n",
    "paths = data[\"paths\"]\n",
    "\n",
    "faiss.normalize_L2(features)\n",
    "index = faiss.IndexFlatIP(features.shape[1])\n",
    "index.add(features)\n",
    "\n",
    "faiss.write_index(index, \"clip_faiss_index.index\")\n",
    "np.save(\"clip_image_paths.npy\", paths)"
   ]
  },
  {
   "cell_type": "code",
   "execution_count": null,
   "id": "5c13605c-4cc4-4fae-81ad-10e146f918f7",
   "metadata": {},
   "outputs": [],
   "source": []
  }
 ],
 "metadata": {
  "kernelspec": {
   "display_name": "Python 3 (ipykernel)",
   "language": "python",
   "name": "python3"
  },
  "language_info": {
   "codemirror_mode": {
    "name": "ipython",
    "version": 3
   },
   "file_extension": ".py",
   "mimetype": "text/x-python",
   "name": "python",
   "nbconvert_exporter": "python",
   "pygments_lexer": "ipython3",
   "version": "3.9.21"
  }
 },
 "nbformat": 4,
 "nbformat_minor": 5
}
